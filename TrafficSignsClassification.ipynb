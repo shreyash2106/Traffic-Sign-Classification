{
 "cells": [
  {
   "cell_type": "code",
   "execution_count": 14,
   "metadata": {
    "colab": {},
    "colab_type": "code",
    "id": "yD0cVDC6tUuP"
   },
   "outputs": [
    {
     "name": "stdout",
     "output_type": "stream",
     "text": [
      "Requirement already satisfied: Pillow in /Users/shreyash/anaconda3/lib/python3.7/site-packages (7.1.2)\n",
      "Requirement already satisfied: pandas in /Users/shreyash/anaconda3/lib/python3.7/site-packages (1.0.4)\n",
      "Requirement already satisfied: scikit-learn in /Users/shreyash/anaconda3/lib/python3.7/site-packages (0.23.1)\n",
      "Requirement already satisfied: joblib in /Users/shreyash/anaconda3/lib/python3.7/site-packages (0.15.1)\n",
      "Requirement already satisfied: cv in /Users/shreyash/anaconda3/lib/python3.7/site-packages (1.0.0)\n",
      "Requirement already satisfied: python-dateutil>=2.6.1 in /Users/shreyash/anaconda3/lib/python3.7/site-packages (from pandas) (2.8.1)\n",
      "Requirement already satisfied: pytz>=2017.2 in /Users/shreyash/anaconda3/lib/python3.7/site-packages (from pandas) (2020.1)\n",
      "Requirement already satisfied: numpy>=1.13.3 in /Users/shreyash/anaconda3/lib/python3.7/site-packages (from pandas) (1.18.1)\n",
      "Requirement already satisfied: scipy>=0.19.1 in /Users/shreyash/anaconda3/lib/python3.7/site-packages (from scikit-learn) (1.4.1)\n",
      "Requirement already satisfied: threadpoolctl>=2.0.0 in /Users/shreyash/anaconda3/lib/python3.7/site-packages (from scikit-learn) (2.1.0)\n",
      "Requirement already satisfied: six>=1.5 in /Users/shreyash/anaconda3/lib/python3.7/site-packages (from python-dateutil>=2.6.1->pandas) (1.14.0)\n"
     ]
    }
   ],
   "source": [
    "# install  libraries you don't have \n",
    "import sys\n",
    "!{sys.executable} -m pip install Pillow pandas scikit-learn joblib cv "
   ]
  },
  {
   "cell_type": "code",
   "execution_count": 2,
   "metadata": {},
   "outputs": [],
   "source": [
    "import numpy as np \n",
    "import pandas as pd \n",
    "import os\n",
    "import cv2\n",
    "from PIL import Image"
   ]
  },
  {
   "cell_type": "code",
   "execution_count": 3,
   "metadata": {},
   "outputs": [],
   "source": [
    "data = []\n",
    "labels = []\n",
    "class_size = 43\n",
    "\n",
    "for file in range(class_size) :\n",
    "    path = \"./Dataset/Train/{0}/\".format(file)\n",
    "    Class = os.listdir(path)\n",
    "    for c in Class:\n",
    "        try:\n",
    "            image = cv2.imread(path + c)\n",
    "            image_from_array = Image.fromarray(image, 'RGB')\n",
    "            resized_image = image_from_array.resize((30, 30))\n",
    "            resized_images = np.array(resized_image)\n",
    "            data.append(resized_images)\n",
    "            labels.append(file)\n",
    "        except AttributeError:\n",
    "            print(\" \")"
   ]
  },
  {
   "cell_type": "code",
   "execution_count": 4,
   "metadata": {},
   "outputs": [],
   "source": [
    "Images=np.array(data)\n",
    "labels=np.array(labels)"
   ]
  },
  {
   "cell_type": "code",
   "execution_count": 18,
   "metadata": {},
   "outputs": [],
   "source": [
    "# Shuffling the data \n",
    "value = np.arange(Images.shape[0])\n",
    "np.random.seed(class_size)\n",
    "np.random.shuffle(value)\n",
    "Images = Images[value]\n",
    "labels = labels[value]\n",
    "image_data = len(Images)\n",
    "labels_data = len(labels)"
   ]
  },
  {
   "cell_type": "code",
   "execution_count": 19,
   "metadata": {},
   "outputs": [],
   "source": [
    "# Spliting the images into train and validation sets using 80-20 rule\n",
    "(training_images, validation_images) = Images[(int)(0.2 * labels_data):], Images[:(int)(0.2 * labels_data)]\n",
    "training_images = training_images.astype('float32') / 255 \n",
    "validation_images = validation_images.astype('float32') / 255\n",
    "(training_labels, validation_labels) = labels[(int)(0.2 * labels_data):], labels[:(int)(0.2 * labels_data)]"
   ]
  },
  {
   "cell_type": "code",
   "execution_count": 20,
   "metadata": {},
   "outputs": [
    {
     "name": "stderr",
     "output_type": "stream",
     "text": [
      "Using TensorFlow backend.\n"
     ]
    }
   ],
   "source": [
    "# Using one hot encoding for the labels\n",
    "from keras.utils import to_categorical\n",
    "training_labels = to_categorical(training_labels, class_size)\n",
    "validation_labels = to_categorical(validation_labels, class_size)"
   ]
  },
  {
   "cell_type": "code",
   "execution_count": null,
   "metadata": {},
   "outputs": [],
   "source": [
    "# DNN Model \n"
   ]
  }
 ],
 "metadata": {
  "colab": {
   "name": "TrafficSignsClassification.ipynb",
   "provenance": []
  },
  "kernelspec": {
   "display_name": "Python 3",
   "language": "python",
   "name": "python3"
  },
  "language_info": {
   "codemirror_mode": {
    "name": "ipython",
    "version": 3
   },
   "file_extension": ".py",
   "mimetype": "text/x-python",
   "name": "python",
   "nbconvert_exporter": "python",
   "pygments_lexer": "ipython3",
   "version": "3.7.6"
  }
 },
 "nbformat": 4,
 "nbformat_minor": 1
}
