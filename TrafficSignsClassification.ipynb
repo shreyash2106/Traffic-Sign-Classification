{
 "cells": [
  {
   "cell_type": "code",
   "execution_count": 1,
   "metadata": {
    "colab": {},
    "colab_type": "code",
    "id": "yD0cVDC6tUuP"
   },
   "outputs": [
    {
     "name": "stdout",
     "output_type": "stream",
     "text": [
      "Requirement already satisfied: Pillow in /Users/shreyash/anaconda3/lib/python3.7/site-packages (7.1.2)\n",
      "Requirement already satisfied: pandas in /Users/shreyash/anaconda3/lib/python3.7/site-packages (1.0.4)\n",
      "Requirement already satisfied: scikit-learn in /Users/shreyash/anaconda3/lib/python3.7/site-packages (0.23.1)\n",
      "Requirement already satisfied: joblib in /Users/shreyash/anaconda3/lib/python3.7/site-packages (0.15.1)\n",
      "Requirement already satisfied: cv in /Users/shreyash/anaconda3/lib/python3.7/site-packages (1.0.0)\n",
      "Requirement already satisfied: pytz>=2017.2 in /Users/shreyash/anaconda3/lib/python3.7/site-packages (from pandas) (2020.1)\n",
      "Requirement already satisfied: numpy>=1.13.3 in /Users/shreyash/anaconda3/lib/python3.7/site-packages (from pandas) (1.18.1)\n",
      "Requirement already satisfied: python-dateutil>=2.6.1 in /Users/shreyash/anaconda3/lib/python3.7/site-packages (from pandas) (2.8.1)\n",
      "Requirement already satisfied: scipy>=0.19.1 in /Users/shreyash/anaconda3/lib/python3.7/site-packages (from scikit-learn) (1.4.1)\n",
      "Requirement already satisfied: threadpoolctl>=2.0.0 in /Users/shreyash/anaconda3/lib/python3.7/site-packages (from scikit-learn) (2.1.0)\n",
      "Requirement already satisfied: six>=1.5 in /Users/shreyash/anaconda3/lib/python3.7/site-packages (from python-dateutil>=2.6.1->pandas) (1.14.0)\n"
     ]
    }
   ],
   "source": [
    "# Install libraries you don't have \n",
    "import sys\n",
    "!{sys.executable} -m pip install Pillow pandas scikit-learn joblib cv "
   ]
  },
  {
   "cell_type": "code",
   "execution_count": 2,
   "metadata": {},
   "outputs": [
    {
     "name": "stderr",
     "output_type": "stream",
     "text": [
      "Using TensorFlow backend.\n"
     ]
    }
   ],
   "source": [
    "import numpy as np \n",
    "import pandas as pd \n",
    "import os\n",
    "import cv2\n",
    "from PIL import Image\n",
    "import matplotlib.pyplot as plt\n",
    "import tensorflow as tf\n",
    "from keras.models import Sequential \n",
    "from keras.layers import Conv2D, Dense, Flatten, MaxPool2D"
   ]
  },
  {
   "cell_type": "code",
   "execution_count": 3,
   "metadata": {},
   "outputs": [],
   "source": [
    "data = []\n",
    "labels = []\n",
    "class_size = 43\n",
    "\n",
    "for file in range(class_size) :\n",
    "    path = \"./Dataset/Train/{0}/\".format(file)\n",
    "    Class = os.listdir(path)\n",
    "    for c in Class:\n",
    "        try:\n",
    "            image = cv2.imread(path + c)\n",
    "            image_from_array = Image.fromarray(image, 'RGB')\n",
    "            resized_image = image_from_array.resize((30, 30))\n",
    "            resized_images = np.array(resized_image)\n",
    "            data.append(resized_images)\n",
    "            labels.append(file)\n",
    "        except AttributeError:\n",
    "            print(\" \")"
   ]
  },
  {
   "cell_type": "code",
   "execution_count": 4,
   "metadata": {},
   "outputs": [],
   "source": [
    "Images=np.array(data)\n",
    "labels=np.array(labels)"
   ]
  },
  {
   "cell_type": "code",
   "execution_count": 5,
   "metadata": {},
   "outputs": [],
   "source": [
    "# Shuffling the data \n",
    "value = np.arange(Images.shape[0])\n",
    "np.random.seed(class_size)\n",
    "np.random.shuffle(value)\n",
    "Images = Images[value]\n",
    "labels = labels[value]\n",
    "image_data = len(Images)\n",
    "labels_data = len(labels)"
   ]
  },
  {
   "cell_type": "code",
   "execution_count": 6,
   "metadata": {},
   "outputs": [
    {
     "name": "stdout",
     "output_type": "stream",
     "text": [
      "Training:  (31368, 30, 30, 3)\n",
      "Testing : (7841, 30, 30, 3)\n"
     ]
    },
    {
     "data": {
      "image/png": "[encoded data removed]",
      "text/plain": [
       "<Figure size 432x288 with 1 Axes>"
      ]
     },
     "metadata": {
      "needs_background": "light"
     },
     "output_type": "display_data"
    },
    {
     "name": "stdout",
     "output_type": "stream",
     "text": [
      "Size of this image is (30, 30, 3)\n"
     ]
    }
   ],
   "source": [
    "# Spliting the images into train and validation sets \n",
    "(training_images, validation_images) = Images[(int)(0.2 * labels_data):], Images[:(int)(0.2 * labels_data)]\n",
    "training_images = training_images.astype('float32') / 255 \n",
    "validation_images = validation_images.astype('float32') / 255\n",
    "(training_labels, validation_labels) = labels[(int)(0.2 * labels_data):], labels[:(int)(0.2 * labels_data)]\n",
    "print(\"Training: \", training_images.shape)\n",
    "print(\"Testing :\", validation_images.shape)\n",
    "plt.imshow(training_images[0])\n",
    "plt.show()\n",
    "print(\"Size of this image is \" + str(training_images[0].shape))"
   ]
  },
  {
   "cell_type": "code",
   "execution_count": 7,
   "metadata": {},
   "outputs": [],
   "source": [
    "# Using one hot encoding for the labels\n",
    "from keras.utils import to_categorical\n",
    "training_labels = to_categorical(training_labels, class_size)\n",
    "validation_labels = to_categorical(validation_labels, class_size)"
   ]
  },
  {
   "cell_type": "code",
   "execution_count": 8,
   "metadata": {},
   "outputs": [],
   "source": [
    "# Define a Callback class that stops training once accuracy reaches 97%\n",
    "class myCallback(tf.keras.callbacks.Callback):\n",
    "    def on_epoch_end(self, epoch, logs={}):\n",
    "        if(logs.get('accuracy')>0.99):\n",
    "            print(\"\\nReached 99% accuracy so cancelling training!\")\n",
    "            self.model.stop_training = True\n",
    "callbacks = myCallback()"
   ]
  },
  {
   "cell_type": "code",
   "execution_count": 29,
   "metadata": {},
   "outputs": [],
   "source": [
    "# DNN Model \n",
    "model = tf.keras.models.Sequential([\n",
    "    tf.keras.layers.Conv2D(32, kernel_size=(5,5), padding='same', activation='relu', input_shape = training_images.shape[1:]),\n",
    "    tf.keras.layers.Conv2D(32, kernel_size=(5,5), padding='same', activation='relu'),\n",
    "    tf.keras.layers.MaxPool2D(pool_size=(2, 2)),\n",
    "    tf.keras.layers.Dropout(rate=0.25),\n",
    "    tf.keras.layers.Conv2D(32, kernel_size=(3,3), padding='same', activation='relu', input_shape = training_images[1:]),\n",
    "    tf.keras.layers.Conv2D(32, kernel_size=(3,3), padding='same', activation='relu'),\n",
    "    tf.keras.layers.MaxPool2D(pool_size=(2, 2)),\n",
    "    tf.keras.layers.Dropout(rate=0.25),\n",
    "    tf.keras.layers.Flatten(),\n",
    "    tf.keras.layers.Dense(256, activation='relu'),\n",
    "    tf.keras.layers.Dense(class_size, activation='softmax')\n",
    "])"
   ]
  },
  {
   "cell_type": "code",
   "execution_count": 30,
   "metadata": {},
   "outputs": [],
   "source": [
    "model.compile(loss='categorical_crossentropy', optimizer='adam', metrics=['accuracy'])"
   ]
  },
  {
   "cell_type": "code",
   "execution_count": 31,
   "metadata": {},
   "outputs": [
    {
     "name": "stdout",
     "output_type": "stream",
     "text": [
      "Model: \"sequential_2\"\n",
      "_________________________________________________________________\n",
      "Layer (type)                 Output Shape              Param #   \n",
      "=================================================================\n",
      "conv2d_8 (Conv2D)            (None, 30, 30, 32)        2432      \n",
      "_________________________________________________________________\n",
      "conv2d_9 (Conv2D)            (None, 30, 30, 32)        25632     \n",
      "_________________________________________________________________\n",
      "max_pooling2d_4 (MaxPooling2 (None, 15, 15, 32)        0         \n",
      "_________________________________________________________________\n",
      "dropout (Dropout)            (None, 15, 15, 32)        0         \n",
      "_________________________________________________________________\n",
      "conv2d_10 (Conv2D)           (None, 15, 15, 32)        9248      \n",
      "_________________________________________________________________\n",
      "conv2d_11 (Conv2D)           (None, 15, 15, 32)        9248      \n",
      "_________________________________________________________________\n",
      "max_pooling2d_5 (MaxPooling2 (None, 7, 7, 32)          0         \n",
      "_________________________________________________________________\n",
      "dropout_1 (Dropout)          (None, 7, 7, 32)          0         \n",
      "_________________________________________________________________\n",
      "flatten_2 (Flatten)          (None, 1568)              0         \n",
      "_________________________________________________________________\n",
      "dense_4 (Dense)              (None, 256)               401664    \n",
      "_________________________________________________________________\n",
      "dense_5 (Dense)              (None, 43)                11051     \n",
      "=================================================================\n",
      "Total params: 459,275\n",
      "Trainable params: 459,275\n",
      "Non-trainable params: 0\n",
      "_________________________________________________________________\n"
     ]
    }
   ],
   "source": [
    "model.summary()"
   ]
  },
  {
   "cell_type": "code",
   "execution_count": 32,
   "metadata": {},
   "outputs": [
    {
     "name": "stdout",
     "output_type": "stream",
     "text": [
      "Train on 31368 samples, validate on 7841 samples\n",
      "Epoch 1/20\n",
      "31368/31368 [==============================] - 93s 3ms/sample - loss: 1.1474 - accuracy: 0.6759 - val_loss: 0.2069 - val_accuracy: 0.9424\n",
      "Epoch 2/20\n",
      "31368/31368 [==============================] - 92s 3ms/sample - loss: 0.1716 - accuracy: 0.9482 - val_loss: 0.1000 - val_accuracy: 0.9746\n",
      "Epoch 3/20\n",
      "31360/31368 [============================>.] - ETA: 0s - loss: 0.0914 - accuracy: 0.9721\n",
      "Reached 97% accuracy so cancelling training!\n",
      "31368/31368 [==============================] - 88s 3ms/sample - loss: 0.0914 - accuracy: 0.9721 - val_loss: 0.0482 - val_accuracy: 0.9871\n"
     ]
    }
   ],
   "source": [
    "import os\n",
    "\n",
    "os.environ['KMP_DUPLICATE_LIB_OK']='True'\n",
    "\n",
    "history = model.fit(training_images, \n",
    "                    training_labels, \n",
    "                    validation_data = (validation_images, validation_labels), \n",
    "                    batch_size = 32, \n",
    "                    epochs = 20,\n",
    "                    verbose = 1,\n",
    "                    callbacks = [callbacks])"
   ]
  },
  {
   "cell_type": "code",
   "execution_count": 33,
   "metadata": {},
   "outputs": [],
   "source": [
    "test = pd.read_csv(\"./Dataset/Test.csv\")\n",
    "test_labels = test['Path'].to_numpy()\n",
    "test = test['ClassId'].values\n",
    "test_dataset = []\n",
    "for label in test_labels:\n",
    "    img = cv2.imread('./Dataset/Test/' + label.replace('Test/', ''))\n",
    "    image_array = Image.fromarray(img, 'RGB')\n",
    "    resized_image = image_array.resize((30, 30))\n",
    "    test_dataset.append(np.array(resized_image))\n",
    "test_data = np.array(test_dataset)\n",
    "test_data = test_data.astype('float32')/255\n",
    "prediction = model.predict_classes(test_data)"
   ]
  },
  {
   "cell_type": "code",
   "execution_count": 34,
   "metadata": {},
   "outputs": [
    {
     "data": {
      "text/plain": [
       "0.9320665083135392"
      ]
     },
     "execution_count": 34,
     "metadata": {},
     "output_type": "execute_result"
    }
   ],
   "source": [
    "from sklearn.metrics import accuracy_score\n",
    "accuracy_score(test, prediction)"
   ]
  },
  {
   "cell_type": "code",
   "execution_count": 35,
   "metadata": {},
   "outputs": [
    {
     "data": {
      "text/plain": [
       "<matplotlib.legend.Legend at 0x7fc24ca695d0>"
      ]
     },
     "execution_count": 35,
     "metadata": {},
     "output_type": "execute_result"
    },
    {
     "data": {
      "image/png": "[encoded data removed]",
      "text/plain": [
       "<Figure size 432x288 with 1 Axes>"
      ]
     },
     "metadata": {
      "needs_background": "light"
     },
     "output_type": "display_data"
    },
    {
     "data": {
      "image/png": "[encoded data removed]",
      "text/plain": [
       "<Figure size 432x288 with 1 Axes>"
      ]
     },
     "metadata": {
      "needs_background": "light"
     },
     "output_type": "display_data"
    }
   ],
   "source": [
    "import matplotlib.pyplot as plt\n",
    "\n",
    "plt.figure(0)\n",
    "plt.plot(history.history['accuracy'], label='training accuracy')\n",
    "plt.plot(history.history['val_accuracy'], label='validation accuracy')\n",
    "plt.title('Accuracy')\n",
    "plt.xlabel('epochs')\n",
    "plt.ylabel('accuracy')\n",
    "plt.legend()\n",
    "\n",
    "plt.figure(1)\n",
    "plt.plot(history.history['loss'], label='training loss')\n",
    "plt.plot(history.history['val_loss'], label='val loss')\n",
    "plt.title('Loss')\n",
    "plt.xlabel('epochs')\n",
    "plt.ylabel('loss')\n",
    "plt.legend()\n"
   ]
  },
  {
   "cell_type": "code",
   "execution_count": 44,
   "metadata": {},
   "outputs": [
    {
     "name": "stdout",
     "output_type": "stream",
     "text": [
      "[16  1 38 ... 16 16 16]\n"
     ]
    }
   ],
   "source": [
    "img = cv2.imread('./Dataset/Test/00000.png')\n",
    "image_array = Image.fromarray(img, 'RGB')\n",
    "resized_image = image_array.resize((30, 30))\n",
    "test_dataset.append(np.array(resized_image))\n",
    "test_data = np.array(test_dataset)\n",
    "test_data = test_data.astype('float32')/255\n",
    "prediction = model.predict_classes(test_data)\n"
   ]
  },
  {
   "cell_type": "code",
   "execution_count": null,
   "metadata": {},
   "outputs": [],
   "source": []
  }
 ],
 "metadata": {
  "colab": {
   "name": "TrafficSignsClassification.ipynb",
   "provenance": []
  },
  "kernelspec": {
   "display_name": "Python 3",
   "language": "python",
   "name": "python3"
  },
  "language_info": {
   "codemirror_mode": {
    "name": "ipython",
    "version": 3
   },
   "file_extension": ".py",
   "mimetype": "text/x-python",
   "name": "python",
   "nbconvert_exporter": "python",
   "pygments_lexer": "ipython3",
   "version": "3.7.6"
  }
 },
 "nbformat": 4,
 "nbformat_minor": 1
}
